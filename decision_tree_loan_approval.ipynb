{
 "cells": [
  {
   "cell_type": "markdown",
   "id": "110f3139",
   "metadata": {},
   "source": [
    "# Decision Tree - Loan Approval (Synthetic dataset)\n",
    "\n",
    "Notebook that demonstrates data creation, EDA, preprocessing, training a Decision Tree classifier, evaluation, and example prediction.\n",
    "\n",
    "Files generated alongside this notebook:\n",
    "\n",
    "- `/mnt/data/loan_approval_synthetic.csv` (the dataset)\n",
    "\n",
    "Run each cell in order."
   ]
  },
  {
   "cell_type": "code",
   "execution_count": null,
   "id": "83793e15",
   "metadata": {},
   "outputs": [],
   "source": [
    "# Imports\n",
    "import pandas as pd\n",
    "import numpy as np\n",
    "from pathlib import Path\n",
    "from sklearn.model_selection import train_test_split\n",
    "from sklearn.tree import DecisionTreeClassifier, plot_tree\n",
    "from sklearn.preprocessing import OneHotEncoder\n",
    "from sklearn.compose import ColumnTransformer\n",
    "from sklearn.pipeline import Pipeline\n",
    "from sklearn.metrics import accuracy_score, classification_report, confusion_matrix\n",
    "import joblib\n",
    "import matplotlib.pyplot as plt\n",
    "\n",
    "# Make plots render in notebook\n",
    "%matplotlib inline\n"
   ]
  },
  {
   "cell_type": "code",
   "execution_count": null,
   "id": "d0568091",
   "metadata": {},
   "outputs": [],
   "source": [
    "# Load dataset\n",
    "csv_path = '/mnt/data/loan_approval_synthetic.csv'\n",
    "df = pd.read_csv(csv_path)\n",
    "df.head()"
   ]
  },
  {
   "cell_type": "code",
   "execution_count": null,
   "id": "c59b55b7",
   "metadata": {},
   "outputs": [],
   "source": [
    "# Basic EDA\n",
    "print('Rows, cols:', df.shape)\n",
    "print('\\nTarget distribution:')\n",
    "print(df['approved'].value_counts(normalize=True))\n",
    "print('\\nData types:')\n",
    "print(df.dtypes)"
   ]
  },
  {
   "cell_type": "code",
   "execution_count": null,
   "id": "d77d1d33",
   "metadata": {},
   "outputs": [],
   "source": [
    "# Preprocessing: separate features and target\n",
    "X = df.drop(columns=['approved'])\n",
    "y = df['approved']\n",
    "\n",
    "# Identify numeric and categorical columns\n",
    "numeric_cols = X.select_dtypes(include=['int64','float64']).columns.tolist()\n",
    "categorical_cols = X.select_dtypes(include=['object','category']).columns.tolist()\n",
    "numeric_cols, categorical_cols"
   ]
  },
  {
   "cell_type": "code",
   "execution_count": null,
   "id": "853f1ad5",
   "metadata": {},
   "outputs": [],
   "source": [
    "# Build a preprocessing + model pipeline\n",
    "preprocessor = ColumnTransformer(transformers=[\n",
    "    ('cat', OneHotEncoder(handle_unknown='ignore', sparse=False), categorical_cols)\n",
    "], remainder='passthrough')\n",
    "\n",
    "clf = DecisionTreeClassifier(random_state=42, max_depth=6)\n",
    "\n",
    "pipe = Pipeline(steps=[\n",
    "    ('pre', preprocessor),\n",
    "    ('clf', clf)\n",
    "])\n",
    "\n",
    "# Train-test split\n",
    "X_train, X_test, y_train, y_test = train_test_split(X, y, stratify=y, test_size=0.25, random_state=42)\n",
    "\n",
    "# Fit\n",
    "pipe.fit(X_train, y_train)\n"
   ]
  },
  {
   "cell_type": "code",
   "execution_count": null,
   "id": "f0406b13",
   "metadata": {},
   "outputs": [],
   "source": [
    "# Evaluation\n",
    "y_pred = pipe.predict(X_test)\n",
    "print('Accuracy:', accuracy_score(y_test, y_pred))\n",
    "print('\\nClassification report:\\n', classification_report(y_test, y_pred))\n",
    "\n",
    "cm = confusion_matrix(y_test, y_pred)\n",
    "print('\\nConfusion matrix:\\n', cm)\n",
    "\n",
    "# Simple confusion matrix plot\n",
    "plt.figure(figsize=(5,4))\n",
    "plt.imshow(cm, interpolation='nearest')\n",
    "plt.title('Confusion matrix')\n",
    "plt.ylabel('True label')\n",
    "plt.xlabel('Predicted label')\n",
    "plt.colorbar()\n",
    "for (i, j), val in np.ndenumerate(cm):\n",
    "    plt.text(j, i, val, ha='center', va='center')\n",
    "plt.tight_layout()\n",
    "plt.show()"
   ]
  },
  {
   "cell_type": "code",
   "execution_count": null,
   "id": "2117b80b",
   "metadata": {},
   "outputs": [],
   "source": [
    "# Visualize the trained Decision Tree (requires matplotlib)\n",
    "# Extract trained decision tree from pipeline\n",
    "tree = pipe.named_steps['clf']\n",
    "# Need feature names after OneHotEncoding\n",
    "ohe = pipe.named_steps['pre'].named_transformers_['cat']\n",
    "ohe_feature_names = list(ohe.get_feature_names_out(categorical_cols))\n",
    "feature_names = ohe_feature_names + [c for c in numeric_cols]\n",
    "plt.figure(figsize=(20,8))\n",
    "plot_tree(tree, feature_names=feature_names, class_names=['not_approved','approved'], filled=True, rounded=True)\n",
    "plt.show()"
   ]
  },
  {
   "cell_type": "code",
   "execution_count": null,
   "id": "4bce4d15",
   "metadata": {},
   "outputs": [],
   "source": [
    "# Save model to disk\n",
    "model_path = '/mnt/data/decision_tree_loan_model.joblib'\n",
    "joblib.dump(pipe, model_path)\n",
    "print('Saved model to', model_path)"
   ]
  },
  {
   "cell_type": "code",
   "execution_count": null,
   "id": "79cb5497",
   "metadata": {},
   "outputs": [],
   "source": [
    "# Example: predict a new applicant\n",
    "sample = {\n",
    "    'age': [35],\n",
    "    'income': [48000],\n",
    "    'loan_amount': [8000],\n",
    "    'credit_score': [660],\n",
    "    'employment_years': [4],\n",
    "    'existing_debt': [2000],\n",
    "    'has_coapplicant': [0],\n",
    "    'previous_defaults': [0],\n",
    "    'marital_status': ['married'],\n",
    "    'education_level': ['bachelor']\n",
    "}\n",
    "sample_df = pd.DataFrame(sample)\n",
    "pred = pipe.predict(sample_df)\n",
    "prob = pipe.predict_proba(sample_df)[:,1]\n",
    "print('Prediction (1=approved):', pred[0], ' - probability approved:', round(prob[0],3))"
   ]
  },
  {
   "cell_type": "markdown",
   "id": "dcb68949",
   "metadata": {},
   "source": [
    "## Notes\n",
    "\n",
    "- The dataset is synthetic but realistic for practice.\n",
    "- Change `max_depth` or other DecisionTree hyperparameters to experiment.\n",
    "- If you want a RandomForest instead, replace `DecisionTreeClassifier` with `RandomForestClassifier` and tune `n_estimators`."
   ]
  }
 ],
 "metadata": {},
 "nbformat": 4,
 "nbformat_minor": 5
}
